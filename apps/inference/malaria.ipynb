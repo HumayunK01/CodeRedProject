{
 "cells": [
  {
   "cell_type": "code",
   "execution_count": 1,
   "id": "8e7cade3",
   "metadata": {},
   "outputs": [
    {
     "name": "stdout",
     "output_type": "stream",
     "text": [
      "Python: 3.11.0 (main, Oct 24 2022, 18:26:48) [MSC v.1933 64 bit (AMD64)]\n",
      "TensorFlow: 2.20.0\n"
     ]
    }
   ],
   "source": [
    "import os\n",
    "import numpy as np\n",
    "import pandas as pd\n",
    "import matplotlib.pyplot as plt\n",
    "import seaborn as sns\n",
    "import joblib\n",
    "import warnings\n",
    "warnings.filterwarnings('ignore')\n",
    "\n",
    "# ML libs (import later inside parts if you want)\n",
    "import tensorflow as tf\n",
    "from tensorflow import keras\n",
    "\n",
    "print(\"Python:\", os.sys.version.splitlines()[0])\n",
    "print(\"TensorFlow:\", tf.__version__)\n"
   ]
  },
  {
   "cell_type": "code",
   "execution_count": 2,
   "id": "20aa869b",
   "metadata": {},
   "outputs": [
    {
     "name": "stdout",
     "output_type": "stream",
     "text": [
      "Found 200 files in data/cell_images\\Parasitized\n",
      "Found 200 files in data/cell_images\\Uninfected\n",
      "Loaded shapes: (400, 128, 128, 3) (400,)\n",
      "Class counts: [200 200]\n"
     ]
    }
   ],
   "source": [
    "# load function (limit samples for first test)\n",
    "import cv2, glob\n",
    "\n",
    "def load_malaria_images(data_dir, img_size=(128,128), max_samples=500):\n",
    "    images = []\n",
    "    labels = []\n",
    "    classes = [('Parasitized',1), ('Uninfected',0)]\n",
    "    for cls,lab in classes:\n",
    "        p = os.path.join(data_dir, cls)\n",
    "        files = glob.glob(os.path.join(p, '*'))\n",
    "        files = files[:max_samples]\n",
    "        print(f\"Found {len(files)} files in {p}\")\n",
    "        for f in files:\n",
    "            try:\n",
    "                im = cv2.imread(f)\n",
    "                if im is None:\n",
    "                    # skip unreadable files\n",
    "                    continue\n",
    "                im = cv2.resize(im, img_size)\n",
    "                im = cv2.cvtColor(im, cv2.COLOR_BGR2RGB)\n",
    "                im = im.astype('float32') / 255.0\n",
    "                images.append(im)\n",
    "                labels.append(lab)\n",
    "            except Exception as e:\n",
    "                print(\"Error:\", f, e)\n",
    "    X = np.array(images, dtype=np.float32)\n",
    "    y = np.array(labels, dtype=np.int32)\n",
    "    # shuffle\n",
    "    idx = np.random.permutation(len(X))\n",
    "    X, y = X[idx], y[idx]\n",
    "    return X, y\n",
    "\n",
    "# Run a quick load: update path if dataset is somewhere else\n",
    "DATA_DIR = 'data/cell_images'  # put Kaggle 'cell_images' here\n",
    "X, y = load_malaria_images(DATA_DIR, img_size=(128,128), max_samples=200)\n",
    "print(\"Loaded shapes:\", X.shape, y.shape)\n",
    "print(\"Class counts:\", np.bincount(y))\n"
   ]
  },
  {
   "cell_type": "code",
   "execution_count": 3,
   "id": "2b3b8c14",
   "metadata": {},
   "outputs": [
    {
     "data": {
      "text/html": [
       "<pre style=\"white-space:pre;overflow-x:auto;line-height:normal;font-family:Menlo,'DejaVu Sans Mono',consolas,'Courier New',monospace\"><span style=\"font-weight: bold\">Model: \"sequential\"</span>\n",
       "</pre>\n"
      ],
      "text/plain": [
       "\u001b[1mModel: \"sequential\"\u001b[0m\n"
      ]
     },
     "metadata": {},
     "output_type": "display_data"
    },
    {
     "data": {
      "text/html": [
       "<pre style=\"white-space:pre;overflow-x:auto;line-height:normal;font-family:Menlo,'DejaVu Sans Mono',consolas,'Courier New',monospace\">┏━━━━━━━━━━━━━━━━━━━━━━━━━━━━━━━━━┳━━━━━━━━━━━━━━━━━━━━━━━━┳━━━━━━━━━━━━━━━┓\n",
       "┃<span style=\"font-weight: bold\"> Layer (type)                    </span>┃<span style=\"font-weight: bold\"> Output Shape           </span>┃<span style=\"font-weight: bold\">       Param # </span>┃\n",
       "┡━━━━━━━━━━━━━━━━━━━━━━━━━━━━━━━━━╇━━━━━━━━━━━━━━━━━━━━━━━━╇━━━━━━━━━━━━━━━┩\n",
       "│ conv2d (<span style=\"color: #0087ff; text-decoration-color: #0087ff\">Conv2D</span>)                 │ (<span style=\"color: #00d7ff; text-decoration-color: #00d7ff\">None</span>, <span style=\"color: #00af00; text-decoration-color: #00af00\">128</span>, <span style=\"color: #00af00; text-decoration-color: #00af00\">128</span>, <span style=\"color: #00af00; text-decoration-color: #00af00\">16</span>)   │           <span style=\"color: #00af00; text-decoration-color: #00af00\">448</span> │\n",
       "├─────────────────────────────────┼────────────────────────┼───────────────┤\n",
       "│ max_pooling2d (<span style=\"color: #0087ff; text-decoration-color: #0087ff\">MaxPooling2D</span>)    │ (<span style=\"color: #00d7ff; text-decoration-color: #00d7ff\">None</span>, <span style=\"color: #00af00; text-decoration-color: #00af00\">64</span>, <span style=\"color: #00af00; text-decoration-color: #00af00\">64</span>, <span style=\"color: #00af00; text-decoration-color: #00af00\">16</span>)     │             <span style=\"color: #00af00; text-decoration-color: #00af00\">0</span> │\n",
       "├─────────────────────────────────┼────────────────────────┼───────────────┤\n",
       "│ conv2d_1 (<span style=\"color: #0087ff; text-decoration-color: #0087ff\">Conv2D</span>)               │ (<span style=\"color: #00d7ff; text-decoration-color: #00d7ff\">None</span>, <span style=\"color: #00af00; text-decoration-color: #00af00\">64</span>, <span style=\"color: #00af00; text-decoration-color: #00af00\">64</span>, <span style=\"color: #00af00; text-decoration-color: #00af00\">32</span>)     │         <span style=\"color: #00af00; text-decoration-color: #00af00\">4,640</span> │\n",
       "├─────────────────────────────────┼────────────────────────┼───────────────┤\n",
       "│ max_pooling2d_1 (<span style=\"color: #0087ff; text-decoration-color: #0087ff\">MaxPooling2D</span>)  │ (<span style=\"color: #00d7ff; text-decoration-color: #00d7ff\">None</span>, <span style=\"color: #00af00; text-decoration-color: #00af00\">32</span>, <span style=\"color: #00af00; text-decoration-color: #00af00\">32</span>, <span style=\"color: #00af00; text-decoration-color: #00af00\">32</span>)     │             <span style=\"color: #00af00; text-decoration-color: #00af00\">0</span> │\n",
       "├─────────────────────────────────┼────────────────────────┼───────────────┤\n",
       "│ flatten (<span style=\"color: #0087ff; text-decoration-color: #0087ff\">Flatten</span>)               │ (<span style=\"color: #00d7ff; text-decoration-color: #00d7ff\">None</span>, <span style=\"color: #00af00; text-decoration-color: #00af00\">32768</span>)          │             <span style=\"color: #00af00; text-decoration-color: #00af00\">0</span> │\n",
       "├─────────────────────────────────┼────────────────────────┼───────────────┤\n",
       "│ dense (<span style=\"color: #0087ff; text-decoration-color: #0087ff\">Dense</span>)                   │ (<span style=\"color: #00d7ff; text-decoration-color: #00d7ff\">None</span>, <span style=\"color: #00af00; text-decoration-color: #00af00\">64</span>)             │     <span style=\"color: #00af00; text-decoration-color: #00af00\">2,097,216</span> │\n",
       "├─────────────────────────────────┼────────────────────────┼───────────────┤\n",
       "│ dense_1 (<span style=\"color: #0087ff; text-decoration-color: #0087ff\">Dense</span>)                 │ (<span style=\"color: #00d7ff; text-decoration-color: #00d7ff\">None</span>, <span style=\"color: #00af00; text-decoration-color: #00af00\">1</span>)              │            <span style=\"color: #00af00; text-decoration-color: #00af00\">65</span> │\n",
       "└─────────────────────────────────┴────────────────────────┴───────────────┘\n",
       "</pre>\n"
      ],
      "text/plain": [
       "┏━━━━━━━━━━━━━━━━━━━━━━━━━━━━━━━━━┳━━━━━━━━━━━━━━━━━━━━━━━━┳━━━━━━━━━━━━━━━┓\n",
       "┃\u001b[1m \u001b[0m\u001b[1mLayer (type)                   \u001b[0m\u001b[1m \u001b[0m┃\u001b[1m \u001b[0m\u001b[1mOutput Shape          \u001b[0m\u001b[1m \u001b[0m┃\u001b[1m \u001b[0m\u001b[1m      Param #\u001b[0m\u001b[1m \u001b[0m┃\n",
       "┡━━━━━━━━━━━━━━━━━━━━━━━━━━━━━━━━━╇━━━━━━━━━━━━━━━━━━━━━━━━╇━━━━━━━━━━━━━━━┩\n",
       "│ conv2d (\u001b[38;5;33mConv2D\u001b[0m)                 │ (\u001b[38;5;45mNone\u001b[0m, \u001b[38;5;34m128\u001b[0m, \u001b[38;5;34m128\u001b[0m, \u001b[38;5;34m16\u001b[0m)   │           \u001b[38;5;34m448\u001b[0m │\n",
       "├─────────────────────────────────┼────────────────────────┼───────────────┤\n",
       "│ max_pooling2d (\u001b[38;5;33mMaxPooling2D\u001b[0m)    │ (\u001b[38;5;45mNone\u001b[0m, \u001b[38;5;34m64\u001b[0m, \u001b[38;5;34m64\u001b[0m, \u001b[38;5;34m16\u001b[0m)     │             \u001b[38;5;34m0\u001b[0m │\n",
       "├─────────────────────────────────┼────────────────────────┼───────────────┤\n",
       "│ conv2d_1 (\u001b[38;5;33mConv2D\u001b[0m)               │ (\u001b[38;5;45mNone\u001b[0m, \u001b[38;5;34m64\u001b[0m, \u001b[38;5;34m64\u001b[0m, \u001b[38;5;34m32\u001b[0m)     │         \u001b[38;5;34m4,640\u001b[0m │\n",
       "├─────────────────────────────────┼────────────────────────┼───────────────┤\n",
       "│ max_pooling2d_1 (\u001b[38;5;33mMaxPooling2D\u001b[0m)  │ (\u001b[38;5;45mNone\u001b[0m, \u001b[38;5;34m32\u001b[0m, \u001b[38;5;34m32\u001b[0m, \u001b[38;5;34m32\u001b[0m)     │             \u001b[38;5;34m0\u001b[0m │\n",
       "├─────────────────────────────────┼────────────────────────┼───────────────┤\n",
       "│ flatten (\u001b[38;5;33mFlatten\u001b[0m)               │ (\u001b[38;5;45mNone\u001b[0m, \u001b[38;5;34m32768\u001b[0m)          │             \u001b[38;5;34m0\u001b[0m │\n",
       "├─────────────────────────────────┼────────────────────────┼───────────────┤\n",
       "│ dense (\u001b[38;5;33mDense\u001b[0m)                   │ (\u001b[38;5;45mNone\u001b[0m, \u001b[38;5;34m64\u001b[0m)             │     \u001b[38;5;34m2,097,216\u001b[0m │\n",
       "├─────────────────────────────────┼────────────────────────┼───────────────┤\n",
       "│ dense_1 (\u001b[38;5;33mDense\u001b[0m)                 │ (\u001b[38;5;45mNone\u001b[0m, \u001b[38;5;34m1\u001b[0m)              │            \u001b[38;5;34m65\u001b[0m │\n",
       "└─────────────────────────────────┴────────────────────────┴───────────────┘\n"
      ]
     },
     "metadata": {},
     "output_type": "display_data"
    },
    {
     "data": {
      "text/html": [
       "<pre style=\"white-space:pre;overflow-x:auto;line-height:normal;font-family:Menlo,'DejaVu Sans Mono',consolas,'Courier New',monospace\"><span style=\"font-weight: bold\"> Total params: </span><span style=\"color: #00af00; text-decoration-color: #00af00\">2,102,369</span> (8.02 MB)\n",
       "</pre>\n"
      ],
      "text/plain": [
       "\u001b[1m Total params: \u001b[0m\u001b[38;5;34m2,102,369\u001b[0m (8.02 MB)\n"
      ]
     },
     "metadata": {},
     "output_type": "display_data"
    },
    {
     "data": {
      "text/html": [
       "<pre style=\"white-space:pre;overflow-x:auto;line-height:normal;font-family:Menlo,'DejaVu Sans Mono',consolas,'Courier New',monospace\"><span style=\"font-weight: bold\"> Trainable params: </span><span style=\"color: #00af00; text-decoration-color: #00af00\">2,102,369</span> (8.02 MB)\n",
       "</pre>\n"
      ],
      "text/plain": [
       "\u001b[1m Trainable params: \u001b[0m\u001b[38;5;34m2,102,369\u001b[0m (8.02 MB)\n"
      ]
     },
     "metadata": {},
     "output_type": "display_data"
    },
    {
     "data": {
      "text/html": [
       "<pre style=\"white-space:pre;overflow-x:auto;line-height:normal;font-family:Menlo,'DejaVu Sans Mono',consolas,'Courier New',monospace\"><span style=\"font-weight: bold\"> Non-trainable params: </span><span style=\"color: #00af00; text-decoration-color: #00af00\">0</span> (0.00 B)\n",
       "</pre>\n"
      ],
      "text/plain": [
       "\u001b[1m Non-trainable params: \u001b[0m\u001b[38;5;34m0\u001b[0m (0.00 B)\n"
      ]
     },
     "metadata": {},
     "output_type": "display_data"
    }
   ],
   "source": [
    "from tensorflow.keras import layers, models\n",
    "\n",
    "def create_malaria_cnn_small(input_shape=(128,128,3)):\n",
    "    model = models.Sequential([\n",
    "        layers.Conv2D(16,(3,3),activation='relu',padding='same',input_shape=input_shape),\n",
    "        layers.MaxPooling2D(2,2),\n",
    "        layers.Conv2D(32,(3,3),activation='relu',padding='same'),\n",
    "        layers.MaxPooling2D(2,2),\n",
    "        layers.Flatten(),\n",
    "        layers.Dense(64, activation='relu'),\n",
    "        layers.Dense(1, activation='sigmoid')\n",
    "    ])\n",
    "    return model\n",
    "\n",
    "model = create_malaria_cnn_small()\n",
    "model.summary()"
   ]
  },
  {
   "cell_type": "code",
   "execution_count": 4,
   "id": "3b98ac08",
   "metadata": {},
   "outputs": [
    {
     "name": "stdout",
     "output_type": "stream",
     "text": [
      "Epoch 1/3\n",
      "\u001b[1m20/20\u001b[0m \u001b[32m━━━━━━━━━━━━━━━━━━━━\u001b[0m\u001b[37m\u001b[0m \u001b[1m5s\u001b[0m 71ms/step - accuracy: 0.4656 - loss: 0.7402 - val_accuracy: 0.5000 - val_loss: 0.6887\n",
      "Epoch 2/3\n",
      "\u001b[1m20/20\u001b[0m \u001b[32m━━━━━━━━━━━━━━━━━━━━\u001b[0m\u001b[37m\u001b[0m \u001b[1m1s\u001b[0m 47ms/step - accuracy: 0.6281 - loss: 0.6579 - val_accuracy: 0.6375 - val_loss: 0.6619\n",
      "Epoch 3/3\n",
      "\u001b[1m20/20\u001b[0m \u001b[32m━━━━━━━━━━━━━━━━━━━━\u001b[0m\u001b[37m\u001b[0m \u001b[1m1s\u001b[0m 46ms/step - accuracy: 0.7031 - loss: 0.5891 - val_accuracy: 0.6625 - val_loss: 0.6281\n"
     ]
    }
   ],
   "source": [
    "# Cell 6: compile and quick fit\n",
    "from sklearn.model_selection import train_test_split\n",
    "\n",
    "X_train, X_val, y_train, y_val = train_test_split(X, y, test_size=0.2, random_state=42, stratify=y)\n",
    "model.compile(optimizer='adam', loss='binary_crossentropy', metrics=['accuracy'])\n",
    "history = model.fit(X_train, y_train, epochs=3, batch_size=16, validation_data=(X_val,y_val))\n"
   ]
  },
  {
   "cell_type": "code",
   "execution_count": 5,
   "id": "ca2754f7",
   "metadata": {},
   "outputs": [
    {
     "name": "stderr",
     "output_type": "stream",
     "text": [
      "WARNING:absl:You are saving your model as an HDF5 file via `model.save()` or `keras.saving.save_model(model)`. This file format is considered legacy. We recommend using instead the native Keras format, e.g. `model.save('my_model.keras')` or `keras.saving.save_model(model, 'my_model.keras')`. \n"
     ]
    },
    {
     "name": "stdout",
     "output_type": "stream",
     "text": [
      "Saved model: models/malaria_test_small.h5\n",
      "\u001b[1m1/1\u001b[0m \u001b[32m━━━━━━━━━━━━━━━━━━━━\u001b[0m\u001b[37m\u001b[0m \u001b[1m0s\u001b[0m 129ms/step\n",
      "Pred prob: 0.5328328 Label: 0\n"
     ]
    }
   ],
   "source": [
    "# Cell 7: save and quick predict\n",
    "model.save('models/malaria_test_small.h5')\n",
    "print(\"Saved model: models/malaria_test_small.h5\")\n",
    "\n",
    "# test single prediction\n",
    "sample = X_val[0:1]\n",
    "prob = model.predict(sample)[0][0]\n",
    "print(\"Pred prob:\", prob, \"Label:\", y_val[0])\n"
   ]
  },
  {
   "cell_type": "code",
   "execution_count": 6,
   "id": "adfbb15c",
   "metadata": {},
   "outputs": [
    {
     "name": "stdout",
     "output_type": "stream",
     "text": [
      "Raw columns: ['Country', 'Year', 'No. of cases', 'No. of deaths', 'WHO Region']\n",
      "Cleaned columns: ['country', 'year', 'no._of_cases', 'no._of_deaths', 'who_region']\n",
      "       country  year  no._of_cases  no._of_deaths             who_region\n",
      "0  Afghanistan  2017      161778.0           10.0  Eastern Mediterranean\n",
      "1      Algeria  2017           0.0            0.0                 Africa\n",
      "2       Angola  2017     3874892.0        13967.0                 Africa\n",
      "3    Argentina  2017           0.0            1.0               Americas\n",
      "4      Armenia  2017           0.0            NaN                 Europe\n",
      "Unique countries sample: ['Afghanistan' 'Algeria' 'Angola' 'Argentina' 'Armenia' 'Azerbaijan'\n",
      " 'Bangladesh' 'Belize' 'Benin' 'Bhutan' 'Bolivia (Plurinational State of)'\n",
      " 'Botswana' 'Brazil' 'Burkina Faso' 'Burundi' 'Cabo Verde' 'Cambodia'\n",
      " 'Cameroon' 'Central African Republic' 'Chad']\n"
     ]
    }
   ],
   "source": [
    "# Cell 8: load and clean reported_numbers.csv\n",
    "csv_path = 'data/reported_numbers.csv'  # put that file here\n",
    "\n",
    "df = pd.read_csv(csv_path)\n",
    "print(\"Raw columns:\", df.columns.tolist())\n",
    "\n",
    "# normalize column names (strip spaces and lower)\n",
    "df.columns = df.columns.str.strip().str.replace(' ', '_').str.replace('#', '').str.lower()\n",
    "print(\"Cleaned columns:\", df.columns.tolist())\n",
    "\n",
    "# show sample rows and countries\n",
    "print(df.head())\n",
    "print(\"Unique countries sample:\", df['country'].unique()[:20])\n"
   ]
  },
  {
   "cell_type": "code",
   "execution_count": 7,
   "id": "def238af",
   "metadata": {},
   "outputs": [
    {
     "name": "stdout",
     "output_type": "stream",
     "text": [
      "cases_col: ['no._of_cases']\n"
     ]
    }
   ],
   "source": [
    "# find column containing 'case' (robust)\n",
    "cases_col = [c for c in df.columns if 'case' in c]\n",
    "print(\"cases_col:\", cases_col)"
   ]
  },
  {
   "cell_type": "code",
   "execution_count": 8,
   "id": "490f3858",
   "metadata": {},
   "outputs": [
    {
     "name": "stdout",
     "output_type": "stream",
     "text": [
      "Using cases column: no._of_cases\n",
      "Time series length: 18\n"
     ]
    },
    {
     "data": {
      "text/plain": [
       "date\n",
       "2000-01-01    2031790.0\n",
       "2001-01-01    2085484.0\n",
       "2002-01-01    1841227.0\n",
       "2003-01-01    1869403.0\n",
       "2004-01-01    1915363.0\n",
       "Name: no._of_cases, dtype: float64"
      ]
     },
     "metadata": {},
     "output_type": "display_data"
    },
    {
     "data": {
      "text/plain": [
       "date\n",
       "2013-01-01     881730.0\n",
       "2014-01-01    1102205.0\n",
       "2015-01-01    1169261.0\n",
       "2016-01-01    1087285.0\n",
       "2017-01-01     844558.0\n",
       "Name: no._of_cases, dtype: float64"
      ]
     },
     "metadata": {},
     "output_type": "display_data"
    }
   ],
   "source": [
    "# Cell 9: build time series for a chosen country\n",
    "country = 'India'  # change as needed\n",
    "# attempt common names variations\n",
    "if country not in df['country'].values:\n",
    "    # show top matches\n",
    "    print(\"Country not found, show unique sample (first 50):\")\n",
    "    print(df['country'].unique()[:50])\n",
    "else:\n",
    "    # choose the cases column robustly\n",
    "    cases_col = [c for c in df.columns if 'case' in c][0]\n",
    "    print(\"Using cases column:\", cases_col)\n",
    "    country_df = df[df['country']==country].copy()\n",
    "    country_df = country_df.sort_values('year')\n",
    "    # convert year to datetime index\n",
    "    country_df['date'] = pd.to_datetime(country_df['year'].astype(int), format='%Y')\n",
    "    country_df.set_index('date', inplace=True)\n",
    "    ts = country_df[cases_col].astype(float)\n",
    "    print(\"Time series length:\", len(ts))\n",
    "    display(ts.head(), ts.tail())\n"
   ]
  },
  {
   "cell_type": "code",
   "execution_count": 9,
   "id": "f3d118b3",
   "metadata": {},
   "outputs": [
    {
     "data": {
      "image/png": "[encoded data removed]",
      "text/plain": [
       "<Figure size 1000x400 with 1 Axes>"
      ]
     },
     "metadata": {},
     "output_type": "display_data"
    }
   ],
   "source": [
    "# Cell 10: quick EDA plot\n",
    "plt.figure(figsize=(10,4))\n",
    "plt.plot(ts.index.year, ts.values, marker='o', linewidth=2)\n",
    "plt.title(f'Malaria cases: {country}')\n",
    "plt.xlabel('Year'); plt.ylabel('Cases'); plt.grid(True)\n",
    "plt.show()\n"
   ]
  },
  {
   "cell_type": "code",
   "execution_count": 10,
   "id": "85874751",
   "metadata": {},
   "outputs": [
    {
     "name": "stdout",
     "output_type": "stream",
     "text": [
      "ADF stat: 0.0684013744328078 pval: 0.9638363036135984\n",
      "Series non-stationary; difference once\n"
     ]
    }
   ],
   "source": [
    "# Cell 11: ADF test\n",
    "from statsmodels.tsa.stattools import adfuller\n",
    "adf = adfuller(ts.dropna())\n",
    "print(\"ADF stat:\", adf[0], \"pval:\", adf[1])\n",
    "if adf[1] < 0.05:\n",
    "    print(\"Series stationary\")\n",
    "else:\n",
    "    print(\"Series non-stationary; difference once\")\n",
    "    ts_diff = ts.diff().dropna()\n"
   ]
  },
  {
   "cell_type": "code",
   "execution_count": 11,
   "id": "1f9cb1a1",
   "metadata": {},
   "outputs": [
    {
     "name": "stdout",
     "output_type": "stream",
     "text": [
      "Train len: 14 Test len: 4\n"
     ]
    }
   ],
   "source": [
    "# Cell 12: train/test split\n",
    "split_idx = int(len(ts) * 0.8)\n",
    "train = ts.iloc[:split_idx]\n",
    "test = ts.iloc[split_idx:]\n",
    "print(\"Train len:\", len(train), \"Test len:\", len(test))\n"
   ]
  },
  {
   "cell_type": "code",
   "execution_count": 12,
   "id": "c8426f51",
   "metadata": {},
   "outputs": [
    {
     "name": "stdout",
     "output_type": "stream",
     "text": [
      "ARIMA trained; AIC: 353.205036690378\n"
     ]
    },
    {
     "name": "stderr",
     "output_type": "stream",
     "text": [
      "e:\\malaria\\.venv\\Lib\\site-packages\\statsmodels\\tsa\\base\\tsa_model.py:473: ValueWarning: No frequency information was provided, so inferred frequency YS-JAN will be used.\n",
      "  self._init_dates(dates, freq)\n",
      "e:\\malaria\\.venv\\Lib\\site-packages\\statsmodels\\tsa\\base\\tsa_model.py:473: ValueWarning: No frequency information was provided, so inferred frequency YS-JAN will be used.\n",
      "  self._init_dates(dates, freq)\n",
      "e:\\malaria\\.venv\\Lib\\site-packages\\statsmodels\\tsa\\base\\tsa_model.py:473: ValueWarning: No frequency information was provided, so inferred frequency YS-JAN will be used.\n",
      "  self._init_dates(dates, freq)\n"
     ]
    }
   ],
   "source": [
    "# Cell 13: ARIMA train (use short)\n",
    "from statsmodels.tsa.arima.model import ARIMA\n",
    "import numpy as np\n",
    "try:\n",
    "    arima_order = (1,1,1)\n",
    "    model = ARIMA(train, order=arima_order)\n",
    "    fitted = model.fit()\n",
    "    print(\"ARIMA trained; AIC:\", fitted.aic)\n",
    "except Exception as e:\n",
    "    print(\"ARIMA failed:\", e)\n",
    "    # try fallback\n",
    "    model = ARIMA(train, order=(2,1,2))\n",
    "    fitted = model.fit()\n",
    "    print(\"Fallback ARIMA trained; AIC:\", fitted.aic)\n"
   ]
  },
  {
   "cell_type": "code",
   "execution_count": 13,
   "id": "7e313c5a",
   "metadata": {},
   "outputs": [
    {
     "name": "stdout",
     "output_type": "stream",
     "text": [
      "MAE: 192443.02547214497 RMSE: 216284.21603212817\n",
      "Future forecast: 2014-01-01    870195.314898\n",
      "2015-01-01    875127.224718\n",
      "2016-01-01    873018.477556\n",
      "2017-01-01    873920.119061\n",
      "2018-01-01    873534.602287\n",
      "Freq: YS-JAN, Name: predicted_mean, dtype: float64\n"
     ]
    }
   ],
   "source": [
    "# Cell 14: forecast for test and future\n",
    "from sklearn.metrics import mean_absolute_error, mean_squared_error\n",
    "\n",
    "# forecast for test range\n",
    "n_test = len(test)\n",
    "test_pred = fitted.forecast(steps=n_test)\n",
    "mae = mean_absolute_error(test, test_pred)\n",
    "rmse = np.sqrt(mean_squared_error(test, test_pred))\n",
    "print(\"MAE:\", mae, \"RMSE:\", rmse)\n",
    "\n",
    "# future forecast (5 years)\n",
    "future_steps = 5\n",
    "future_forecast = fitted.forecast(steps=future_steps)\n",
    "print(\"Future forecast:\", future_forecast)\n"
   ]
  },
  {
   "cell_type": "code",
   "execution_count": 14,
   "id": "a22a5b34",
   "metadata": {},
   "outputs": [
    {
     "name": "stdout",
     "output_type": "stream",
     "text": [
      "Saved ARIMA: models/malaria_forecast_arima.pkl\n"
     ]
    },
    {
     "data": {
      "image/png": "[encoded data removed]",
      "text/plain": [
       "<Figure size 1000x500 with 1 Axes>"
      ]
     },
     "metadata": {},
     "output_type": "display_data"
    }
   ],
   "source": [
    "# Cell 15: save model & plots\n",
    "joblib.dump(fitted, 'models/malaria_forecast_arima.pkl')\n",
    "print(\"Saved ARIMA:\", 'models/malaria_forecast_arima.pkl')\n",
    "\n",
    "# plot actual vs predicted\n",
    "plt.figure(figsize=(10,5))\n",
    "plt.plot(train.index.year, train, label='Train')\n",
    "plt.plot(test.index.year, test, 'o-', label='Test actual')\n",
    "plt.plot(test.index.year, test_pred, 's--', label='Test pred')\n",
    "plt.legend(); plt.grid(True)\n",
    "plt.title('Actual vs Predicted')\n",
    "plt.show()\n"
   ]
  },
  {
   "cell_type": "code",
   "execution_count": null,
   "id": "5d7adadb",
   "metadata": {},
   "outputs": [],
   "source": []
  }
 ],
 "metadata": {
  "kernelspec": {
   "display_name": ".venv",
   "language": "python",
   "name": "python3"
  },
  "language_info": {
   "codemirror_mode": {
    "name": "ipython",
    "version": 3
   },
   "file_extension": ".py",
   "mimetype": "text/x-python",
   "name": "python",
   "nbconvert_exporter": "python",
   "pygments_lexer": "ipython3",
   "version": "3.11.0"
  }
 },
 "nbformat": 4,
 "nbformat_minor": 5
}
